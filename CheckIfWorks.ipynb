{
 "cells": [
  {
   "cell_type": "code",
   "execution_count": 5,
   "metadata": {},
   "outputs": [],
   "source": [
    "import pandas as pd\n",
    "import json"
   ]
  },
  {
   "cell_type": "code",
   "execution_count": 6,
   "metadata": {},
   "outputs": [],
   "source": [
    "rkrit_countries = pd.read_csv('rkrit_countries.csv',encoding='utf-8')\n",
    "rkrit_names = rkrit_countries.values[:,3]"
   ]
  },
  {
   "cell_type": "code",
   "execution_count": 7,
   "metadata": {},
   "outputs": [],
   "source": [
    "es_data = {}\n",
    "with open('esCountries.json') as json_file:  \n",
    "    es_data = json.load(json_file)\n",
    "es_names = [i['key'] for i in es_data[\"aggregations\"][\"tags\"][\"buckets\"]]"
   ]
  },
  {
   "cell_type": "code",
   "execution_count": 8,
   "metadata": {},
   "outputs": [],
   "source": [
    "not_in_rkrit = []\n",
    "index = []\n",
    "for name in es_names:\n",
    "    try:\n",
    "        index.append(rkrit_names.tolist().index(name))\n",
    "    except:\n",
    "        not_in_rkrit.append(name)\n",
    "def printer():\n",
    "    for i in not_in_rkrit:\n",
    "        print(\" -> \" + i )\n",
    "printer()"
   ]
  },
  {
   "cell_type": "code",
   "execution_count": null,
   "metadata": {},
   "outputs": [],
   "source": []
  }
 ],
 "metadata": {
  "kernelspec": {
   "display_name": "Python 2",
   "language": "python",
   "name": "python2"
  },
  "language_info": {
   "codemirror_mode": {
    "name": "ipython",
    "version": 2
   },
   "file_extension": ".py",
   "mimetype": "text/x-python",
   "name": "python",
   "nbconvert_exporter": "python",
   "pygments_lexer": "ipython2",
   "version": "2.7.10"
  }
 },
 "nbformat": 4,
 "nbformat_minor": 2
}
